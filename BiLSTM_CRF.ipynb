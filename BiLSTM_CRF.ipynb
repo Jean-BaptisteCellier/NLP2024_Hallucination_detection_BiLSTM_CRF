{
 "cells": [
  {
   "cell_type": "code",
   "execution_count": 130,
   "metadata": {},
   "outputs": [],
   "source": [
    "import pandas as pd\n",
    "import numpy as np\n",
    "import data_prep as prep\n",
    "import matplotlib.pyplot as plt\n",
    "import json\n",
    "import os\n",
    "import sys\n",
    "import optuna\n",
    "import glob\n",
    "import torch\n",
    "from sklearn.metrics import confusion_matrix\n",
    "from torch.utils.data import DataLoader, TensorDataset\n",
    "from sklearn.metrics import classification_report, make_scorer, precision_score, f1_score\n",
    "from sklearn.model_selection import train_test_split, GridSearchCV\n",
    "from sklearn.preprocessing import LabelEncoder"
   ]
  },
  {
   "cell_type": "code",
   "execution_count": 155,
   "metadata": {},
   "outputs": [],
   "source": [
    "# nb_classes can be set either to 2 for binary classification, or to 3 for \"BIO\"\n",
    "nb_classes = 2"
   ]
  },
  {
   "cell_type": "code",
   "execution_count": 156,
   "metadata": {},
   "outputs": [],
   "source": [
    "n = 1\n",
    "Mode = \"FOLDER\"\n",
    "\n",
    "# file_path = \"full_val_data.jsonl\"\n",
    "file_path = \"mushroom.de_val.v2.jsonl\"\n",
    "folder_path = \"data/val/\"\n",
    "absolute_path = os.path.abspath(file_path)\n",
    "absolute_folder_path = os.path.abspath(folder_path)\n",
    "\n",
    "data = []\n",
    "\n",
    "ENTRY_FILTER = None\n",
    "\n",
    "def fix_encoding(text):\n",
    "    try:\n",
    "        temptext = text.replace(\"\\u0120\", \"\")\n",
    "        return temptext.encode('latin1').decode('utf-8')\n",
    "    except (UnicodeEncodeError, UnicodeDecodeError):\n",
    "        return text\n",
    "\n",
    "if Mode == \"FOLDER\":\n",
    "    jsonl_files = glob.glob(os.path.join(absolute_folder_path, \"*.jsonl\"))\n",
    "    for file_path in jsonl_files:\n",
    "        with open(file_path, 'r', encoding='utf-8') as file:\n",
    "            for line in file:\n",
    "                line_parsed = json.loads(line)\n",
    "                if ENTRY_FILTER is None or line_parsed['id'] == ENTRY_FILTER:\n",
    "                    data.append(line_parsed)\n",
    "else:\n",
    "    # Read the JSONL file line by line\n",
    "    with open(absolute_path, 'r', encoding='utf-8') as file:\n",
    "        for line in file:\n",
    "            line_parsed = json.loads(line)\n",
    "            if ENTRY_FILTER is None or line_parsed['id'] == ENTRY_FILTER:\n",
    "                data.append(line_parsed)"
   ]
  },
  {
   "cell_type": "markdown",
   "metadata": {},
   "source": [
    "### Data processing"
   ]
  },
  {
   "cell_type": "code",
   "execution_count": 157,
   "metadata": {},
   "outputs": [
    {
     "name": "stderr",
     "output_type": "stream",
     "text": [
      "C:\\Users\\jbcel\\AppData\\Local\\Temp\\ipykernel_26892\\921295952.py:3: FutureWarning: The behavior of DataFrame concatenation with empty or all-NA entries is deprecated. In a future version, this will no longer exclude empty or all-NA columns when determining the result dtypes. To retain the old behavior, exclude the relevant entries before the concat operation.\n",
      "  ngram_pairs = pd.concat([prep.prepare_data_for_random_forest_classifier(row, n) for _, row in df.iterrows()], ignore_index=True)\n"
     ]
    },
    {
     "name": "stdout",
     "output_type": "stream",
     "text": [
      "3240 dropped due to logit extraction error from 38640 total rows\n"
     ]
    },
    {
     "data": {
      "text/plain": [
       "<bound method NDFrame.head of               id                         model_id  lang  \\\n",
       "0       val-ar-1             arcee-ai/Arcee-Spark     0   \n",
       "1       val-ar-1             arcee-ai/Arcee-Spark     0   \n",
       "2       val-ar-1             arcee-ai/Arcee-Spark     0   \n",
       "3       val-ar-1             arcee-ai/Arcee-Spark     0   \n",
       "4       val-ar-1             arcee-ai/Arcee-Spark     0   \n",
       "...          ...                              ...   ...   \n",
       "38635  val-zh-50  baichuan-inc/Baichuan2-13B-Chat     9   \n",
       "38636  val-zh-50  baichuan-inc/Baichuan2-13B-Chat     9   \n",
       "38637  val-zh-50  baichuan-inc/Baichuan2-13B-Chat     9   \n",
       "38638  val-zh-50  baichuan-inc/Baichuan2-13B-Chat     9   \n",
       "38639  val-zh-50  baichuan-inc/Baichuan2-13B-Chat     9   \n",
       "\n",
       "                       model_input                   model_output_ngram  \\\n",
       "0      كم عدد المقاطعات في جليقية؟                               جليقة،   \n",
       "1      كم عدد المقاطعات في جليقية؟                                 التي   \n",
       "2      كم عدد المقاطعات في جليقية؟                                 تعرف   \n",
       "3      كم عدد المقاطعات في جليقية؟                                 الآن   \n",
       "4      كم عدد المقاطعات في جليقية؟                                 باسم   \n",
       "...                            ...                                  ...   \n",
       "38635            吉兰·柯南曾效力过哪些职业俱乐部？                                 210年   \n",
       "38636            吉兰·柯南曾效力过哪些职业俱乐部？  2年间帮助球队赢得了两个西甲冠军、一个国王杯冠军和一个欧洲冠军联赛冠军   \n",
       "38637            吉兰·柯南曾效力过哪些职业俱乐部？                              AC米兰（AC   \n",
       "38638            吉兰·柯南曾效力过哪些职业俱乐部？                                Milan   \n",
       "38639            吉兰·柯南曾效力过哪些职业俱乐部？                 22年加盟，但表现一般，没有赢得任何荣誉   \n",
       "\n",
       "                                            ngram_logits  start    end  class  \\\n",
       "0                                                     []    0.0    6.0    0.0   \n",
       "1                                                     []    7.0   11.0    0.0   \n",
       "2                                                     []   12.0   16.0    0.0   \n",
       "3                                                     []   17.0   21.0    0.0   \n",
       "4                                                     []   22.0   26.0    0.0   \n",
       "...                                                  ...    ...    ...    ...   \n",
       "38635  [10.5602254868, -5.2815933228, 34.8903923035, ...   29.0   33.0    1.0   \n",
       "38636  [25.5977649689, 28.1934490204, 31.4431991577, ...   34.0   69.0    1.0   \n",
       "38637  [32.0594482422, 28.6948432922, 57.2553749084, ...   74.0   81.0    1.0   \n",
       "38638                                    [10.9143228531]   82.0   87.0    1.0   \n",
       "38639  [31.6573066711, -1.6633486748, 28.7452011108, ...   90.0  110.0    1.0   \n",
       "\n",
       "       cosine_similarity  token_overlap  mean_logits  entropy_logits  \\\n",
       "0                    0.0            0.0          NaN             NaN   \n",
       "1                    0.0            0.0          NaN             NaN   \n",
       "2                    0.0            0.0          NaN             NaN   \n",
       "3                    0.0            0.0          NaN             NaN   \n",
       "4                    0.0            0.0          NaN             NaN   \n",
       "...                  ...            ...          ...             ...   \n",
       "38635                0.0            0.0    20.103878    2.986650e-02   \n",
       "38636                0.0            0.0    39.315767    4.800173e-01   \n",
       "38637                0.0            0.0    35.338452    3.108104e-10   \n",
       "38638                0.0            0.0    10.914323   -0.000000e+00   \n",
       "38639                0.0            0.0    33.622218    2.376441e-04   \n",
       "\n",
       "       model_id_encoded  \n",
       "0                    11  \n",
       "1                    11  \n",
       "2                    11  \n",
       "3                    11  \n",
       "4                    11  \n",
       "...                 ...  \n",
       "38635                12  \n",
       "38636                12  \n",
       "38637                12  \n",
       "38638                12  \n",
       "38639                12  \n",
       "\n",
       "[38640 rows x 14 columns]>"
      ]
     },
     "execution_count": 157,
     "metadata": {},
     "output_type": "execute_result"
    }
   ],
   "source": [
    "df = pd.DataFrame(data)\n",
    "\n",
    "ngram_pairs = pd.concat([prep.prepare_data_for_random_forest_classifier(row, n) for _, row in df.iterrows()], ignore_index=True)\n",
    "\n",
    "empty_rows = ngram_pairs[ngram_pairs['ngram_logits'].apply(len) == 0]\n",
    "num_empty_rows = len(empty_rows)\n",
    "print(f\"{num_empty_rows} dropped due to logit extraction error from {len(ngram_pairs)} total rows\")\n",
    "combined_df = ngram_pairs[ngram_pairs['ngram_logits'].apply(len) != 0]\n",
    "\n",
    "empty_rows = ngram_pairs[ngram_pairs['ngram_logits'].apply(len) == 0]\n",
    "df = ngram_pairs.copy()\n",
    "label_encoder = LabelEncoder()\n",
    "df[\"model_id_encoded\"] = label_encoder.fit_transform(df[\"model_id\"])\n",
    "df[\"lang\"] = label_encoder.fit_transform(df[\"lang\"])\n",
    "\n",
    "if nb_classes == 3:\n",
    "    df[\"bio_tags\"] = prep.create_bio_tags(df)\n",
    "    df = df.drop(\"class\", axis=1)\n",
    "    bio_tag_to_idx = {\"B\": 0, \"I\": 1, \"O\": 2}\n",
    "    df['encoded_bio_tags'] = df['bio_tags'].apply(lambda x: bio_tag_to_idx.get(x, 2))\n",
    "\n",
    "df.head"
   ]
  },
  {
   "cell_type": "code",
   "execution_count": 158,
   "metadata": {},
   "outputs": [
    {
     "name": "stdout",
     "output_type": "stream",
     "text": [
      "Vocabulary size: 9465\n"
     ]
    }
   ],
   "source": [
    "# Vocabulary size\n",
    "\n",
    "all_tokens = []\n",
    "for index, row in df.iterrows():\n",
    "    tokens = row['model_output_ngram'].split()\n",
    "    all_tokens.extend(tokens)\n",
    "\n",
    "vocabulary = set(all_tokens)\n",
    "vocab_size = len(vocabulary) + 2  # +2 for padding and unknown tokens\n",
    "print(f\"Vocabulary size: {vocab_size}\")\n",
    "\n",
    "token_to_index = {token: index for index, token in enumerate(vocabulary)}\n",
    "token_to_index[\"<PAD>\"] = vocab_size - 2  # Padding token\n",
    "token_to_index[\"<UNK>\"] = vocab_size - 1  # Unknown token\n",
    "\n",
    "df[\"token_indices\"] = df[\"model_output_ngram\"].apply(\n",
    "    lambda text: token_to_index.get(text, token_to_index[\"<UNK>\"])\n",
    ")"
   ]
  },
  {
   "cell_type": "code",
   "execution_count": 159,
   "metadata": {},
   "outputs": [],
   "source": [
    "unique_ids = df[\"id\"].unique()\n",
    "train_ids, test_ids = train_test_split(unique_ids, test_size=0.2, random_state=42)\n",
    "train_data = df[df['id'].isin(train_ids)]\n",
    "test_data = df[df['id'].isin(test_ids)]\n",
    "\n",
    "feature_names = [\"mean_logits\", \"entropy_logits\", \"cosine_similarity\", \"model_id_encoded\", \"token_overlap\", \"lang\", \"token_indices\"]\n",
    "\n",
    "X_train = train_data[feature_names].values\n",
    "X_test = test_data[feature_names].values\n",
    "if nb_classes == 3:\n",
    "    y_train = train_data['encoded_bio_tags'].values\n",
    "    y_test = test_data['encoded_bio_tags'].values\n",
    "elif nb_classes == 2:\n",
    "    y_train = train_data['class'].values\n",
    "    y_test = test_data['class'].values\n",
    "\n",
    "X_train_grouped = train_data.groupby('id')[feature_names].apply(lambda x: x.values.tolist()).values\n",
    "X_test_grouped = test_data.groupby('id')[feature_names].apply(lambda x: x.values.tolist()).values\n",
    "if nb_classes == 3:\n",
    "    y_train_grouped = train_data.groupby('id')['encoded_bio_tags'].apply(lambda x: x.tolist()).values\n",
    "    y_test_grouped = test_data.groupby('id')['encoded_bio_tags'].apply(lambda x: x.tolist()).values\n",
    "elif nb_classes == 2:\n",
    "    y_train_grouped = train_data.groupby('id')['class'].apply(lambda x: x.tolist()).values\n",
    "    y_test_grouped = test_data.groupby('id')['class'].apply(lambda x: x.tolist()).values"
   ]
  },
  {
   "cell_type": "code",
   "execution_count": 160,
   "metadata": {},
   "outputs": [],
   "source": [
    "max_seq_len = max(max(len(sentence) for sentence in X_train_grouped), max(len(sentence) for sentence in X_test_grouped))\n",
    "\n",
    "padded_features = [prep.pad_sequence_features(sentence, max_seq_len, token_to_index[\"<PAD>\"]) for sentence in X_train_grouped]\n",
    "padded_labels = [prep.pad_sequence_labels(sentence, max_seq_len, token_to_index[\"<PAD>\"]) for sentence in y_train_grouped]\n",
    "\n",
    "padded_features = np.array(padded_features, dtype=float)\n",
    "padded_labels = np.nan_to_num(padded_labels, nan=token_to_index[\"<PAD>\"])\n",
    "padded_labels = np.array(padded_labels, dtype=int)"
   ]
  },
  {
   "cell_type": "code",
   "execution_count": 161,
   "metadata": {},
   "outputs": [],
   "source": [
    "X_train, X_val, y_train, y_val = train_test_split(padded_features, padded_labels, test_size=0.2, random_state=42)\n",
    "\n",
    "X_train_tensor = torch.tensor(X_train, dtype=torch.float32)\n",
    "y_train_tensor = torch.tensor(y_train, dtype=torch.long)\n",
    "\n",
    "X_val_tensor = torch.tensor(X_val, dtype=torch.float32)\n",
    "y_val_tensor = torch.tensor(y_val, dtype=torch.long)\n",
    "\n",
    "X_train_tokens = X_train_tensor[:, :, 6].long()\n",
    "X_train_additional_features = X_train_tensor[:, :, 0:6]\n",
    "X_val_tokens = X_val_tensor[:, :, 6].long()\n",
    "X_val_additional_features = X_val_tensor[:, :, 0:6]\n",
    "X_train_additional_features = torch.nan_to_num(X_train_additional_features, nan=0.0) # RELEVANT?\n",
    "X_val_additional_features = torch.nan_to_num(X_val_additional_features, nan=0.0)\n",
    "\n",
    "train_data = TensorDataset(X_train_tokens, X_train_additional_features, y_train_tensor)\n",
    "val_data = TensorDataset(X_val_tokens, X_val_additional_features, y_val_tensor)\n",
    "\n",
    "train_loader = DataLoader(train_data, batch_size=8, shuffle=True)\n",
    "val_loader = DataLoader(val_data, batch_size=8, shuffle=False)"
   ]
  },
  {
   "cell_type": "code",
   "execution_count": 162,
   "metadata": {},
   "outputs": [],
   "source": [
    "padded_features_test = [\n",
    "    prep.pad_sequence_features(sentence, max_seq_len, token_to_index[\"<PAD>\"]) for sentence in X_test_grouped\n",
    "]\n",
    "padded_labels_test = [\n",
    "    prep.pad_sequence_labels(sentence, max_seq_len, token_to_index[\"<PAD>\"]) for sentence in y_test_grouped\n",
    "]\n",
    "\n",
    "padded_features_test = np.array(padded_features_test, dtype=float)\n",
    "padded_labels_test = np.nan_to_num(padded_labels_test, nan=token_to_index[\"<PAD>\"])\n",
    "padded_labels_test = np.array(padded_labels_test, dtype=int)\n",
    "\n",
    "X_test_tensor = torch.tensor(padded_features_test, dtype=torch.float32)\n",
    "y_test_tensor = torch.tensor(padded_labels_test, dtype=torch.long)\n",
    "\n",
    "X_test_tokens = X_test_tensor[:, :, 6].long() \n",
    "X_test_additional_features = X_test_tensor[:, :, 0:6]\n",
    "X_test_additional_features = torch.nan_to_num(X_test_additional_features, nan=0.0)\n",
    "\n",
    "test_data = TensorDataset(X_test_tokens, X_test_additional_features, y_test_tensor)"
   ]
  },
  {
   "cell_type": "markdown",
   "metadata": {},
   "source": [
    "### Definition of the model + training and validation loop"
   ]
  },
  {
   "cell_type": "markdown",
   "metadata": {},
   "source": [
    "The architecture of the model is defined in the file **model_BiLSTMCRF.py**, the training and validation loops in **train_val_model.py**."
   ]
  },
  {
   "cell_type": "code",
   "execution_count": 163,
   "metadata": {},
   "outputs": [],
   "source": [
    "import model_BiLSTMCRF as mod\n",
    "import train_val_model as tv"
   ]
  },
  {
   "cell_type": "markdown",
   "metadata": {},
   "source": [
    "### Hyperparameter tuning"
   ]
  },
  {
   "cell_type": "code",
   "execution_count": 164,
   "metadata": {},
   "outputs": [],
   "source": [
    "import hyperparameter_tuning as ht"
   ]
  },
  {
   "cell_type": "code",
   "execution_count": 165,
   "metadata": {},
   "outputs": [],
   "source": [
    "if nb_classes == 2:\n",
    "    output_dim = 2\n",
    "elif nb_classes == 3:\n",
    "    output_dim = 3\n",
    "additional_feature_dim = 6\n",
    "padding_idx = token_to_index[\"<PAD>\"]\n",
    "\n",
    "# Hyperparameter optimization\n",
    "def objective_with_args(trial):\n",
    "    return ht.objective(\n",
    "        trial=trial,\n",
    "        vocab_size=vocab_size,\n",
    "        output_dim=output_dim,\n",
    "        padding_idx=padding_idx,\n",
    "        additional_feature_dim=additional_feature_dim,\n",
    "        train_data=train_data,\n",
    "        val_data=val_data,\n",
    "        test_data=test_data,\n",
    "    )\n",
    "\n",
    "# study = optuna.create_study(direction=\"maximize\")\n",
    "# study.optimize(objective_with_args, n_trials=10)"
   ]
  },
  {
   "cell_type": "markdown",
   "metadata": {},
   "source": [
    "### Training of the model"
   ]
  },
  {
   "cell_type": "code",
   "execution_count": 198,
   "metadata": {},
   "outputs": [
    {
     "data": {
      "text/plain": [
       "<module 'train_val_model' from 'c:\\\\Users\\\\jbcel\\\\OneDrive\\\\Documentos\\\\TU Wien\\\\NLP and Information Extraction\\\\NLP2025_BiLSTM_CRF\\\\train_val_model.py'>"
      ]
     },
     "execution_count": 198,
     "metadata": {},
     "output_type": "execute_result"
    }
   ],
   "source": [
    "import importlib \n",
    "importlib.reload(tv)"
   ]
  },
  {
   "cell_type": "code",
   "execution_count": null,
   "metadata": {},
   "outputs": [
    {
     "name": "stdout",
     "output_type": "stream",
     "text": [
      "Epoch 1/5, Train Loss: 375.5930, Validation Loss: 258.7438\n",
      "Epoch 2/5, Train Loss: 245.7232, Validation Loss: 228.7796\n",
      "Epoch 3/5, Train Loss: 158.4333, Validation Loss: 208.4225\n",
      "Epoch 4/5, Train Loss: 78.4510, Validation Loss: 209.5303\n",
      "Epoch 5/5, Train Loss: 48.4293, Validation Loss: 228.1706\n",
      "Best model at iteration 1 with val loss 208.42252578735352\n",
      "Epoch 1/5, Train Loss: 365.6110, Validation Loss: 270.8148\n",
      "Epoch 2/5, Train Loss: 242.8558, Validation Loss: 226.4099\n",
      "Epoch 3/5, Train Loss: 153.6892, Validation Loss: 204.4615\n",
      "Epoch 4/5, Train Loss: 85.7247, Validation Loss: 242.4198\n",
      "Epoch 5/5, Train Loss: 55.9503, Validation Loss: 326.8024\n",
      "Best model at iteration 2 with val loss 204.4615005493164\n",
      "Epoch 1/5, Train Loss: 383.1242, Validation Loss: 255.4945\n",
      "Epoch 2/5, Train Loss: 252.6628, Validation Loss: 209.8281\n",
      "Epoch 3/5, Train Loss: 152.9925, Validation Loss: 219.7584\n",
      "Epoch 4/5, Train Loss: 91.0227, Validation Loss: 207.9038\n",
      "Epoch 5/5, Train Loss: 47.8265, Validation Loss: 264.3117\n",
      "Epoch 1/5, Train Loss: 377.8471, Validation Loss: 266.8474\n"
     ]
    }
   ],
   "source": [
    "best_params = {'hidden_dim': 128, 'embedding_dim': 150, 'learning_rate': 0.005, 'batch_size': 8}\n",
    "#with bio: learning_rate: 0.00385\n",
    "\n",
    "# Final training and evaluation\n",
    "train_loader, val_loader, test_loader = prep.create_data_loaders(train_data, val_data, test_data, batch_size=best_params[\"batch_size\"])\n",
    "\n",
    "best_val_loss_overall = float('inf')\n",
    "best_model_state_overall = None\n",
    "\n",
    "for k in range(10):\n",
    "    print(\"Starting iteration\", k+1)\n",
    "    current_model = mod.BiLSTM_CRF_Model(\n",
    "    vocab_size=vocab_size,\n",
    "    embedding_dim=best_params[\"embedding_dim\"],\n",
    "    hidden_dim=best_params[\"hidden_dim\"],\n",
    "    output_dim=output_dim,\n",
    "    padding_idx=padding_idx,\n",
    "    additional_feature_dim=additional_feature_dim\n",
    ")\n",
    "    current_optimizer = torch.optim.Adam(current_model.parameters(), lr=best_params[\"learning_rate\"], weight_decay=1e-5)\n",
    "\n",
    "    train_losses, val_losses, val_predictions, val_true_labels, best_epoch_state = tv.train_model_bilstm_crf(\n",
    "    current_model, train_loader, val_loader, current_optimizer, epochs=5)\n",
    "\n",
    "    min_val_loss_current_run = min(val_losses)\n",
    "\n",
    "    if min_val_loss_current_run < best_val_loss_overall:\n",
    "        best_val_loss_overall = min_val_loss_current_run\n",
    "        best_model_state_overall = best_epoch_state\n",
    "        print(f\"Best model at iteration {k+1} with val loss {best_val_loss_overall}\")"
   ]
  },
  {
   "cell_type": "code",
   "execution_count": 202,
   "metadata": {},
   "outputs": [
    {
     "data": {
      "image/png": "[encoded data removed]",
      "text/plain": [
       "<Figure size 640x480 with 1 Axes>"
      ]
     },
     "metadata": {},
     "output_type": "display_data"
    }
   ],
   "source": [
    "plt.plot(train_losses, label=\"Training Loss\")\n",
    "plt.plot(val_losses, label=\"Validation Loss\")\n",
    "plt.xlabel(\"Epochs\")\n",
    "plt.ylabel(\"Loss\")\n",
    "plt.legend()\n",
    "plt.title(\"Loss Curve\")\n",
    "plt.show()"
   ]
  },
  {
   "cell_type": "markdown",
   "metadata": {},
   "source": [
    "### Evaluation of the model"
   ]
  },
  {
   "cell_type": "markdown",
   "metadata": {},
   "source": [
    "#### Classification metrics: precision, recall, f1-score..."
   ]
  },
  {
   "cell_type": "code",
   "execution_count": 207,
   "metadata": {},
   "outputs": [
    {
     "name": "stdout",
     "output_type": "stream",
     "text": [
      "Loaded the best model for evaluation.\n"
     ]
    }
   ],
   "source": [
    "best_trained_model = mod.BiLSTM_CRF_Model(\n",
    "    vocab_size=vocab_size,\n",
    "    embedding_dim=best_params[\"embedding_dim\"],\n",
    "    hidden_dim=best_params[\"hidden_dim\"],\n",
    "    output_dim=output_dim,\n",
    "    padding_idx=padding_idx,\n",
    "    additional_feature_dim=additional_feature_dim\n",
    ")\n",
    "\n",
    "if best_model_state_overall is not None:\n",
    "    best_trained_model.load_state_dict(best_model_state_overall)\n",
    "    print(\"Loaded the best model for evaluation.\")\n",
    "else:\n",
    "    print(\"No best model found during training iterations.\")"
   ]
  },
  {
   "cell_type": "code",
   "execution_count": 204,
   "metadata": {},
   "outputs": [],
   "source": [
    "import evaluate_model as eval"
   ]
  },
  {
   "cell_type": "code",
   "execution_count": 208,
   "metadata": {},
   "outputs": [
    {
     "name": "stdout",
     "output_type": "stream",
     "text": [
      "Loss: 174.10360717773438\n",
      "Loss: 236.62887573242188\n",
      "Loss: 130.0133819580078\n",
      "Loss: 338.42901611328125\n",
      "Loss: 363.95819091796875\n",
      "Loss: 170.48263549804688\n",
      "Loss: 337.9346008300781\n",
      "Loss: 301.1756286621094\n",
      "Loss: 111.00173950195312\n",
      "Loss: 342.24395751953125\n",
      "Loss: 226.7703857421875\n",
      "Loss: 447.905517578125\n",
      "Loss: 70.82540130615234\n",
      "Accuracy: 72.86%\n",
      "\n",
      "Classification Report:\n",
      "              precision    recall  f1-score   support\n",
      "\n",
      "           0       0.80      0.73      0.76      5544\n",
      "           1       0.64      0.73      0.68      3748\n",
      "\n",
      "    accuracy                           0.73      9292\n",
      "   macro avg       0.72      0.73      0.72      9292\n",
      "weighted avg       0.74      0.73      0.73      9292\n",
      "\n"
     ]
    }
   ],
   "source": [
    "avg_loss, active_preds, true_labels, hard_labels, soft_labels = eval.evaluate_model_bilstm_crf(best_trained_model, test_loader)"
   ]
  },
  {
   "cell_type": "code",
   "execution_count": 209,
   "metadata": {},
   "outputs": [
    {
     "data": {
      "image/png": "[encoded data removed]",
      "text/plain": [
       "<Figure size 640x480 with 2 Axes>"
      ]
     },
     "metadata": {},
     "output_type": "display_data"
    },
    {
     "data": {
      "text/plain": [
       "<Figure size 640x480 with 0 Axes>"
      ]
     },
     "metadata": {},
     "output_type": "display_data"
    }
   ],
   "source": [
    "import seaborn as sns\n",
    "\n",
    "if nb_classes == 2:\n",
    "    cm_bilstm = confusion_matrix(true_labels, active_preds)\n",
    "    sns.heatmap(cm_bilstm, annot=True, fmt='d', cmap='Blues', xticklabels=[\"0\",\"1\"], yticklabels=[\"0\",\"1\"])\n",
    "    plt.xlabel('Predicted Labels')\n",
    "    plt.ylabel('True Labels')\n",
    "    plt.title('Confusion Matrix')\n",
    "    plt.show()\n",
    "    plt.savefig(\"conf_matrix_en.png\")\n",
    "if nb_classes == 3:\n",
    "    cm_bilstm = confusion_matrix(true_labels, active_preds)\n",
    "    sns.heatmap(cm_bilstm, annot=True, fmt='d', cmap='Blues', xticklabels=[\"B\",\"I\",\"O\"], yticklabels=[\"B\",\"I\",\"O\"])\n",
    "    plt.xlabel('Predicted Labels')\n",
    "    plt.ylabel('True Labels')\n",
    "    plt.title('Confusion Matrix')\n",
    "    plt.show()\n",
    "    plt.savefig(\"conf_matrix_en.png\")"
   ]
  },
  {
   "cell_type": "markdown",
   "metadata": {},
   "source": [
    "### Data processing of the results"
   ]
  },
  {
   "cell_type": "code",
   "execution_count": 210,
   "metadata": {},
   "outputs": [],
   "source": [
    "def group_labels_by_sentence(soft_labels, hard_labels, seq_lens):\n",
    "    grouped_soft_labels = []\n",
    "    grouped_hard_labels = []\n",
    "    grouped_true_labels = []\n",
    "    \n",
    "    start_idx = 0  # Start index for slicing\n",
    "    for seq_len in seq_lens:\n",
    "        grouped_soft_labels.append(soft_labels[start_idx:start_idx + seq_len])\n",
    "        grouped_hard_labels.append(hard_labels[start_idx:start_idx + seq_len])\n",
    "        grouped_true_labels.append(true_labels[start_idx:start_idx + seq_len])\n",
    "        \n",
    "        start_idx += seq_len\n",
    "    \n",
    "    return grouped_soft_labels, grouped_hard_labels, grouped_true_labels"
   ]
  },
  {
   "cell_type": "code",
   "execution_count": 211,
   "metadata": {},
   "outputs": [
    {
     "name": "stdout",
     "output_type": "stream",
     "text": [
      "            id                                 model_output_ngram  \\\n",
      "0     val-ar-1  [جليقة،, التي, تعرف, الآن, باسم, تتألف, من, مق...   \n",
      "1    val-ar-10  [بدأ, مشروع, \"ماكنتوش\", (Macintosh), من, قبل, ...   \n",
      "2    val-ar-11  [كان, الكَرْمِلين, في, الروسِية, القديمة, يُست...   \n",
      "3    val-ar-12  [بروس, شتيرلينج, حصل, على, جوائز, هوگو, في, عا...   \n",
      "4    val-ar-13  [زوجة, \"جوني, الكاش\", الثانية, كانت, بيلي, هيل...   \n",
      "..         ...                                                ...   \n",
      "494  val-zh-50  [1., 2., :, 皇家马德里（Real, Madrid）：2009年, 210年, 2...   \n",
      "495   val-zh-6  [克里姆斯林宮（Kreml）是俄罗斯首都莫斯科市中心的一座历史悠久的建筑群，它是俄罗斯的象征...   \n",
      "496   val-zh-7  [布鲁, 特林的成就和荣誉包括, ，他获得, 他还获得了许多其他奖项，包, 。, 的, 20...   \n",
      "497   val-zh-8  [加拿大三角州市（Delta）位于不列颠哥伦比亚省南部，与以下几个市、镇和社区相邻或相望着：...   \n",
      "498   val-zh-9  [苏, 珊, 梅, 耶, 家, 里, 最, 初, 的, 成, 员, 有, ：, 苏, 新, ...   \n",
      "\n",
      "                                                 start  \\\n",
      "0    [0.0, 7.0, 12.0, 17.0, 22.0, 43.0, 49.0, 55.0,...   \n",
      "1    [0.0, 4.0, 10.0, 20.0, 32.0, 35.0, 61.0, 39.0,...   \n",
      "2    [0.0, 4.0, 16.0, 19.0, 28.0, 36.0, 44.0, 51.0,...   \n",
      "3    [0.0, 5.0, 14.0, 18.0, 22.0, 28.0, 33.0, 36.0,...   \n",
      "4    [0.0, 5.0, 11.0, 18.0, 26.0, 32.0, 37.0, 0.0, ...   \n",
      "..                                                 ...   \n",
      "494  [1.0, 71.0, 88.0, 4.0, 15.0, 29.0, 34.0, 74.0,...   \n",
      "495  [2.0, 84.0, 101.0, 158.0, 196.0, 289.0, 81.0, ...   \n",
      "496  [1.0, 6.0, 22.0, 43.0, 108.0, 4.0, 17.0, 27.0,...   \n",
      "497  [1.0, 48.0, 55.0, 87.0, 108.0, 140.0, 176.0, 2...   \n",
      "498  [1.0, 3.0, 5.0, 7.0, 9.0, 11.0, 13.0, 15.0, 17...   \n",
      "\n",
      "                                                   end  \\\n",
      "0    [6.0, 11.0, 16.0, 21.0, 26.0, 48.0, 51.0, 62.0...   \n",
      "1    [3.0, 9.0, 19.0, 31.0, 34.0, 38.0, 63.0, 43.0,...   \n",
      "2    [3.0, 15.0, 18.0, 27.0, 35.0, 43.0, 50.0, 56.0...   \n",
      "3    [4.0, 13.0, 17.0, 21.0, 27.0, 32.0, 35.0, 39.0...   \n",
      "4    [4.0, 10.0, 17.0, 25.0, 30.0, 36.0, 40.0, 4.0,...   \n",
      "..                                                 ...   \n",
      "494  [3.0, 73.0, 89.0, 14.0, 28.0, 33.0, 69.0, 81.0...   \n",
      "495  [80.0, 95.0, 155.0, 170.0, 276.0, 308.0, 83.0,...   \n",
      "496  [3.0, 16.0, 26.0, 56.0, 109.0, 5.0, 21.0, 35.0...   \n",
      "497  [46.0, 50.0, 86.0, 89.0, 139.0, 142.0, 178.0, ...   \n",
      "498  [2.0, 4.0, 6.0, 8.0, 10.0, 12.0, 14.0, 16.0, 1...   \n",
      "\n",
      "                                                 label  \n",
      "0    [0.0, 0.0, 0.0, 0.0, 0.0, 0.0, 0.0, 0.0, 1.0, ...  \n",
      "1    [0.0, 0.0, 0.0, 0.0, 0.0, 0.0, 0.0, 1.0, 1.0, ...  \n",
      "2    [0.0, 0.0, 0.0, 0.0, 0.0, 0.0, 1.0, 1.0, 1.0, ...  \n",
      "3    [0.0, 0.0, 0.0, 0.0, 0.0, 0.0, 0.0, 0.0, 0.0, ...  \n",
      "4    [0.0, 0.0, 0.0, 0.0, 0.0, 1.0, 1.0, 0.0, 0.0, ...  \n",
      "..                                                 ...  \n",
      "494  [0.0, 0.0, 0.0, 1.0, 1.0, 1.0, 1.0, 1.0, 1.0, ...  \n",
      "495  [0.0, 0.0, 0.0, 0.0, 0.0, 0.0, 1.0, 1.0, 1.0, ...  \n",
      "496  [0.0, 0.0, 0.0, 0.0, 0.0, 1.0, 1.0, 1.0, 1.0, ...  \n",
      "497  [0.0, 0.0, 0.0, 0.0, 0.0, 0.0, 0.0, 0.0, 0.0, ...  \n",
      "498  [0.0, 0.0, 0.0, 0.0, 0.0, 0.0, 0.0, 0.0, 0.0, ...  \n",
      "\n",
      "[499 rows x 5 columns]\n"
     ]
    }
   ],
   "source": [
    "if nb_classes == 2:\n",
    "    grouped_data = (\n",
    "        df.groupby(\"id\")\n",
    "        .agg(\n",
    "            model_output_ngram=(\"model_output_ngram\", list),\n",
    "            start=(\"start\", list),\n",
    "            end=(\"end\", list),\n",
    "            label=(\"class\", list),\n",
    "        )\n",
    "        .reset_index()\n",
    "    )\n",
    "elif nb_classes == 3:\n",
    "    grouped_data = (\n",
    "        df.groupby(\"id\")\n",
    "        .agg(\n",
    "            model_output_ngram=(\"model_output_ngram\", list),\n",
    "            start=(\"start\", list),\n",
    "            end=(\"end\", list),\n",
    "            label=(\"encoded_bio_tags\", list),\n",
    "        )\n",
    "        .reset_index()\n",
    "    )\n",
    "\n",
    "print(grouped_data)"
   ]
  },
  {
   "cell_type": "code",
   "execution_count": 212,
   "metadata": {},
   "outputs": [],
   "source": [
    "seq_lens = []\n",
    "sorted_test_ids = []\n",
    "for idx, row in grouped_data.iterrows():\n",
    "    if row['id'] in test_ids:\n",
    "        sorted_test_ids.append(row[\"id\"])\n",
    "        seq_lens.append(len(row[\"model_output_ngram\"]))\n",
    "\n",
    "grouped_soft_labels, grouped_hard_labels, grouped_true_labels = group_labels_by_sentence(\n",
    "    soft_labels, hard_labels, seq_lens\n",
    ")"
   ]
  },
  {
   "cell_type": "code",
   "execution_count": 213,
   "metadata": {},
   "outputs": [],
   "source": [
    "result = []\n",
    "\n",
    "for idx, row in grouped_data.iterrows():\n",
    "    i = 0\n",
    "    if row[\"id\"] in sorted_test_ids:\n",
    "        sentence_id = row[\"id\"]\n",
    "        ngrams = row[\"model_output_ngram\"]\n",
    "        starts = row[\"start\"]\n",
    "        ends = row[\"end\"]\n",
    "        true_labels = row[\"label\"]\n",
    "\n",
    "        # Extract predicted labels for the current sentence\n",
    "        predicted_labels = grouped_hard_labels[sorted_test_ids.index(row[\"id\"])]\n",
    "\n",
    "        for ngram, start, end, true_class, predicted_class in zip(ngrams, starts, ends, true_labels, predicted_labels):\n",
    "            if nb_classes == 2:\n",
    "                transformed_true_class = true_class\n",
    "                transformed_predicted_class = predicted_class\n",
    "            elif nb_classes == 3:\n",
    "                transformed_true_class = 0 if true_class == 2 else 1\n",
    "                transformed_predicted_class = 0 if predicted_class == 2 else 1\n",
    "\n",
    "            result.append({\n",
    "                \"id\": sentence_id,\n",
    "                \"model_output_ngram\": ngram,\n",
    "                \"start\": start,\n",
    "                \"end\": end,\n",
    "                \"true_class\": transformed_true_class,\n",
    "                \"predicted_class\": transformed_predicted_class\n",
    "            })\n",
    "\n",
    "import json\n",
    "with open(\"output_binary.jsonl\", \"w\", encoding=\"utf-8\") as f:\n",
    "    for entry in result:\n",
    "        f.write(json.dumps(entry, ensure_ascii=False) + \"\\n\")"
   ]
  },
  {
   "cell_type": "code",
   "execution_count": 214,
   "metadata": {},
   "outputs": [
    {
     "name": "stdout",
     "output_type": "stream",
     "text": [
      "  Language  entrys  Baseline_BiLSTM_CRF_IoU  Baseline_Random_IoU\n",
      "4       fi       7                 0.575538             0.387581\n",
      "8       sv      10                 0.503752             0.391006\n",
      "9       zh      14                 0.466276             0.357949\n",
      "7       it       7                 0.464355             0.375141\n",
      "5       fr       8                 0.390815             0.319476\n",
      "3       es       5                 0.384686             0.072296\n",
      "0       de      15                 0.338772             0.314826\n",
      "6       hi       9                 0.327660             0.168266\n",
      "1       ar       8                 0.300032             0.279865\n",
      "2       en       6                 0.174706             0.171888\n"
     ]
    }
   ],
   "source": [
    "import scoring_functions as scor\n",
    "\n",
    "file_path = \"output_binary.jsonl\"\n",
    "\n",
    "languages = ['de', 'ar', 'en', 'es', 'fi', 'fr', 'hi', 'it', 'sv', 'zh']\n",
    "\n",
    "results_list = []\n",
    "\n",
    "for language in languages:\n",
    "    truth_path = f\"data/val/mushroom.{language}-val.v2.jsonl\"\n",
    "    language_results = [result for result in scor.process_json_lines(file_path) if language in result.id]\n",
    "    filtered_truth = scor.filter_truth_by_prediction_ids(truth_path, language_results)\n",
    "\n",
    "    baseline_results = scor.create_random_baseline_instances(filtered_truth)\n",
    "\n",
    "    if len(filtered_truth) == 0:\n",
    "        print(f\"skipping {language} due to empty truth set\")\n",
    "        continue\n",
    "\n",
    "    # Get scores\n",
    "    baseline_bilstm_score = scor.score_result(filtered_truth, language_results)\n",
    "    baseline_random_score = scor.score_result(filtered_truth, baseline_results)\n",
    "\n",
    "    # Append results for each language to the list\n",
    "    results_list.append({\n",
    "        'Language': language,\n",
    "        'entrys': len(language_results),\n",
    "        'Baseline_BiLSTM_CRF_IoU': baseline_bilstm_score['IoU'],\n",
    "        #'Baseline_RF_Cor': baseline_rf_score['Cor'],\n",
    "        'Baseline_Random_IoU': baseline_random_score['IoU']\n",
    "        #'Baseline_Random_Cor': baseline_random_score['Cor']\n",
    "    })\n",
    "# Create DataFrame from results\n",
    "results_df = pd.DataFrame(results_list)\n",
    "sorted_results_df = results_df.sort_values(by='Baseline_BiLSTM_CRF_IoU', ascending=False)\n",
    "pd.set_option('display.max_columns', None)\n",
    "# Print the DataFrame\n",
    "print(sorted_results_df)"
   ]
  }
 ],
 "metadata": {
  "kernelspec": {
   "display_name": "Python 3",
   "language": "python",
   "name": "python3"
  },
  "language_info": {
   "codemirror_mode": {
    "name": "ipython",
    "version": 3
   },
   "file_extension": ".py",
   "mimetype": "text/x-python",
   "name": "python",
   "nbconvert_exporter": "python",
   "pygments_lexer": "ipython3",
   "version": "3.13.2"
  }
 },
 "nbformat": 4,
 "nbformat_minor": 2
}
